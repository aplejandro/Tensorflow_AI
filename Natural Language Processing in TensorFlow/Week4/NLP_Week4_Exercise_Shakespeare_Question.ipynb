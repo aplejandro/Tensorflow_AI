{
  "nbformat": 4,
  "nbformat_minor": 0,
  "metadata": {
    "accelerator": "GPU",
    "colab": {
      "name": "NLP_Week4_Exercise_Shakespeare_Question.ipynb",
      "provenance": [],
      "toc_visible": true
    },
    "kernelspec": {
      "display_name": "Python 3",
      "name": "python3"
    }
  },
  "cells": [
    {
      "cell_type": "code",
      "metadata": {
        "id": "zX4Kg8DUTKWO",
        "colab_type": "code",
        "colab": {}
      },
      "source": [
        "#@title Licensed under the Apache License, Version 2.0 (the \"License\");\n",
        "# you may not use this file except in compliance with the License.\n",
        "# You may obtain a copy of the License at\n",
        "#\n",
        "# https://www.apache.org/licenses/LICENSE-2.0\n",
        "#\n",
        "# Unless required by applicable law or agreed to in writing, software\n",
        "# distributed under the License is distributed on an \"AS IS\" BASIS,\n",
        "# WITHOUT WARRANTIES OR CONDITIONS OF ANY KIND, either express or implied.\n",
        "# See the License for the specific language governing permissions and\n",
        "# limitations under the License."
      ],
      "execution_count": null,
      "outputs": []
    },
    {
      "cell_type": "code",
      "metadata": {
        "colab_type": "code",
        "id": "BOwsuGQQY9OL",
        "colab": {}
      },
      "source": [
        "from tensorflow.keras.preprocessing.sequence import pad_sequences\n",
        "from tensorflow.keras.layers import Embedding, LSTM, Dense, Dropout, Bidirectional\n",
        "from tensorflow.keras.preprocessing.text import Tokenizer\n",
        "from tensorflow.keras.models import Sequential\n",
        "from tensorflow.keras.optimizers import Adam\n",
        "### YOUR CODE HERE\n",
        "from tensorflow.keras import regularizers\n",
        "###\n",
        "import tensorflow.keras.utils as ku \n",
        "import numpy as np "
      ],
      "execution_count": 1,
      "outputs": []
    },
    {
      "cell_type": "code",
      "metadata": {
        "colab_type": "code",
        "id": "PRnDnCW-Z7qv",
        "colab": {
          "base_uri": "https://localhost:8080/",
          "height": 202
        },
        "outputId": "bc8bb72b-9a44-4a86-b81f-f2f0616f31e4"
      },
      "source": [
        "tokenizer = Tokenizer()\n",
        "!wget --no-check-certificate \\\n",
        "    https://storage.googleapis.com/laurencemoroney-blog.appspot.com/sonnets.txt \\\n",
        "    -O /tmp/sonnets.txt\n",
        "data = open('/tmp/sonnets.txt').read()\n",
        "\n",
        "corpus = data.lower().split(\"\\n\")\n",
        "\n",
        "\n",
        "tokenizer.fit_on_texts(corpus)\n",
        "total_words = len(tokenizer.word_index) + 1\n",
        "\n",
        "# create input sequences using list of tokens\n",
        "input_sequences = []\n",
        "for line in corpus:\n",
        "\ttoken_list = tokenizer.texts_to_sequences([line])[0]\n",
        "\tfor i in range(1, len(token_list)):\n",
        "\t\tn_gram_sequence = token_list[:i+1]\n",
        "\t\tinput_sequences.append(n_gram_sequence)\n",
        "\n",
        "\n",
        "# pad sequences \n",
        "max_sequence_len = max([len(x) for x in input_sequences])\n",
        "input_sequences = np.array(pad_sequences(input_sequences, maxlen=max_sequence_len, padding='pre'))\n",
        "\n",
        "# create predictors and label\n",
        "predictors, label = input_sequences[:,:-1],input_sequences[:,-1]\n",
        "\n",
        "label = ku.to_categorical(label, num_classes=total_words)"
      ],
      "execution_count": 2,
      "outputs": [
        {
          "output_type": "stream",
          "text": [
            "--2020-09-12 23:42:21--  https://storage.googleapis.com/laurencemoroney-blog.appspot.com/sonnets.txt\n",
            "Resolving storage.googleapis.com (storage.googleapis.com)... 74.125.20.128, 74.125.142.128, 74.125.195.128, ...\n",
            "Connecting to storage.googleapis.com (storage.googleapis.com)|74.125.20.128|:443... connected.\n",
            "HTTP request sent, awaiting response... 200 OK\n",
            "Length: 93578 (91K) [text/plain]\n",
            "Saving to: ‘/tmp/sonnets.txt’\n",
            "\n",
            "\r/tmp/sonnets.txt      0%[                    ]       0  --.-KB/s               \r/tmp/sonnets.txt    100%[===================>]  91.38K  --.-KB/s    in 0.001s  \n",
            "\n",
            "2020-09-12 23:42:21 (148 MB/s) - ‘/tmp/sonnets.txt’ saved [93578/93578]\n",
            "\n"
          ],
          "name": "stdout"
        }
      ]
    },
    {
      "cell_type": "code",
      "metadata": {
        "colab_type": "code",
        "id": "w9vH8Y59ajYL",
        "colab": {
          "base_uri": "https://localhost:8080/",
          "height": 370
        },
        "outputId": "1552a18b-3160-4c88-c0ac-6ab883ff7f2c"
      },
      "source": [
        "model = Sequential()\n",
        "model.add(Embedding(total_words, 100, input_length=max_sequence_len-1))\n",
        "model.add(Bidirectional(LSTM(150, return_sequences = True)))\n",
        "model.add(Dropout(0.2))\n",
        "model.add(LSTM(100))\n",
        "model.add(Dense(total_words/2, activation='relu', kernel_regularizer=regularizers.l2(0.01)))\n",
        "model.add(Dense(total_words, activation='softmax'))\n",
        "model.compile(loss='categorical_crossentropy', optimizer='adam', metrics=['accuracy'])\n",
        "print(model.summary())"
      ],
      "execution_count": 3,
      "outputs": [
        {
          "output_type": "stream",
          "text": [
            "Model: \"sequential\"\n",
            "_________________________________________________________________\n",
            "Layer (type)                 Output Shape              Param #   \n",
            "=================================================================\n",
            "embedding (Embedding)        (None, 10, 100)           321100    \n",
            "_________________________________________________________________\n",
            "bidirectional (Bidirectional (None, 10, 300)           301200    \n",
            "_________________________________________________________________\n",
            "dropout (Dropout)            (None, 10, 300)           0         \n",
            "_________________________________________________________________\n",
            "lstm_1 (LSTM)                (None, 100)               160400    \n",
            "_________________________________________________________________\n",
            "dense (Dense)                (None, 1605)              162105    \n",
            "_________________________________________________________________\n",
            "dense_1 (Dense)              (None, 3211)              5156866   \n",
            "=================================================================\n",
            "Total params: 6,101,671\n",
            "Trainable params: 6,101,671\n",
            "Non-trainable params: 0\n",
            "_________________________________________________________________\n",
            "None\n"
          ],
          "name": "stdout"
        }
      ]
    },
    {
      "cell_type": "code",
      "metadata": {
        "colab_type": "code",
        "id": "AIg2f1HBxqof",
        "colab": {
          "base_uri": "https://localhost:8080/",
          "height": 1000
        },
        "outputId": "4bef2ae7-349b-49c6-c694-2870022e2060"
      },
      "source": [
        " history = model.fit(predictors, label, epochs=100, verbose=1)"
      ],
      "execution_count": 4,
      "outputs": [
        {
          "output_type": "stream",
          "text": [
            "Epoch 1/100\n",
            "484/484 [==============================] - 6s 12ms/step - loss: 6.9217 - accuracy: 0.0230\n",
            "Epoch 2/100\n",
            "484/484 [==============================] - 6s 12ms/step - loss: 6.5052 - accuracy: 0.0210\n",
            "Epoch 3/100\n",
            "484/484 [==============================] - 6s 12ms/step - loss: 6.4299 - accuracy: 0.0216\n",
            "Epoch 4/100\n",
            "484/484 [==============================] - 5s 11ms/step - loss: 6.3321 - accuracy: 0.0281\n",
            "Epoch 5/100\n",
            "484/484 [==============================] - 5s 11ms/step - loss: 6.2184 - accuracy: 0.0342\n",
            "Epoch 6/100\n",
            "484/484 [==============================] - 5s 11ms/step - loss: 6.1311 - accuracy: 0.0371\n",
            "Epoch 7/100\n",
            "484/484 [==============================] - 6s 12ms/step - loss: 6.0506 - accuracy: 0.0405\n",
            "Epoch 8/100\n",
            "484/484 [==============================] - 6s 11ms/step - loss: 5.9616 - accuracy: 0.0426\n",
            "Epoch 9/100\n",
            "484/484 [==============================] - 6s 12ms/step - loss: 5.8618 - accuracy: 0.0496\n",
            "Epoch 10/100\n",
            "484/484 [==============================] - 6s 12ms/step - loss: 5.7573 - accuracy: 0.0547\n",
            "Epoch 11/100\n",
            "484/484 [==============================] - 6s 11ms/step - loss: 5.6513 - accuracy: 0.0622\n",
            "Epoch 12/100\n",
            "484/484 [==============================] - 6s 12ms/step - loss: 5.5461 - accuracy: 0.0685\n",
            "Epoch 13/100\n",
            "484/484 [==============================] - 6s 12ms/step - loss: 5.4450 - accuracy: 0.0743\n",
            "Epoch 14/100\n",
            "484/484 [==============================] - 5s 11ms/step - loss: 5.3397 - accuracy: 0.0808\n",
            "Epoch 15/100\n",
            "484/484 [==============================] - 6s 12ms/step - loss: 5.2320 - accuracy: 0.0884\n",
            "Epoch 16/100\n",
            "484/484 [==============================] - 6s 12ms/step - loss: 5.1315 - accuracy: 0.0925\n",
            "Epoch 17/100\n",
            "484/484 [==============================] - 6s 11ms/step - loss: 5.0287 - accuracy: 0.1055\n",
            "Epoch 18/100\n",
            "484/484 [==============================] - 6s 12ms/step - loss: 4.9258 - accuracy: 0.1107\n",
            "Epoch 19/100\n",
            "484/484 [==============================] - 6s 12ms/step - loss: 4.8279 - accuracy: 0.1206\n",
            "Epoch 20/100\n",
            "484/484 [==============================] - 6s 12ms/step - loss: 4.7280 - accuracy: 0.1302\n",
            "Epoch 21/100\n",
            "484/484 [==============================] - 6s 12ms/step - loss: 4.6271 - accuracy: 0.1378\n",
            "Epoch 22/100\n",
            "484/484 [==============================] - 5s 11ms/step - loss: 4.5315 - accuracy: 0.1451\n",
            "Epoch 23/100\n",
            "484/484 [==============================] - 6s 12ms/step - loss: 4.4309 - accuracy: 0.1609\n",
            "Epoch 24/100\n",
            "484/484 [==============================] - 6s 12ms/step - loss: 4.3387 - accuracy: 0.1701\n",
            "Epoch 25/100\n",
            "484/484 [==============================] - 6s 13ms/step - loss: 4.2426 - accuracy: 0.1805\n",
            "Epoch 26/100\n",
            "484/484 [==============================] - 6s 11ms/step - loss: 4.1433 - accuracy: 0.1950\n",
            "Epoch 27/100\n",
            "484/484 [==============================] - 6s 12ms/step - loss: 4.0441 - accuracy: 0.2077\n",
            "Epoch 28/100\n",
            "484/484 [==============================] - 6s 12ms/step - loss: 3.9517 - accuracy: 0.2198\n",
            "Epoch 29/100\n",
            "484/484 [==============================] - 6s 12ms/step - loss: 3.8623 - accuracy: 0.2373\n",
            "Epoch 30/100\n",
            "484/484 [==============================] - 6s 12ms/step - loss: 3.7703 - accuracy: 0.2532\n",
            "Epoch 31/100\n",
            "484/484 [==============================] - 6s 12ms/step - loss: 3.6713 - accuracy: 0.2661\n",
            "Epoch 32/100\n",
            "484/484 [==============================] - 6s 12ms/step - loss: 3.5920 - accuracy: 0.2847\n",
            "Epoch 33/100\n",
            "484/484 [==============================] - 6s 12ms/step - loss: 3.4945 - accuracy: 0.3046\n",
            "Epoch 34/100\n",
            "484/484 [==============================] - 6s 12ms/step - loss: 3.4197 - accuracy: 0.3199\n",
            "Epoch 35/100\n",
            "484/484 [==============================] - 6s 12ms/step - loss: 3.3375 - accuracy: 0.3353\n",
            "Epoch 36/100\n",
            "484/484 [==============================] - 6s 12ms/step - loss: 3.2586 - accuracy: 0.3598\n",
            "Epoch 37/100\n",
            "484/484 [==============================] - 6s 12ms/step - loss: 3.1776 - accuracy: 0.3718\n",
            "Epoch 38/100\n",
            "484/484 [==============================] - 6s 12ms/step - loss: 3.1048 - accuracy: 0.3912\n",
            "Epoch 39/100\n",
            "484/484 [==============================] - 6s 12ms/step - loss: 3.0306 - accuracy: 0.4076\n",
            "Epoch 40/100\n",
            "484/484 [==============================] - 6s 12ms/step - loss: 2.9704 - accuracy: 0.4247\n",
            "Epoch 41/100\n",
            "484/484 [==============================] - 6s 12ms/step - loss: 2.9022 - accuracy: 0.4364\n",
            "Epoch 42/100\n",
            "484/484 [==============================] - 6s 12ms/step - loss: 2.8285 - accuracy: 0.4549\n",
            "Epoch 43/100\n",
            "484/484 [==============================] - 6s 12ms/step - loss: 2.7674 - accuracy: 0.4718\n",
            "Epoch 44/100\n",
            "484/484 [==============================] - 6s 12ms/step - loss: 2.7121 - accuracy: 0.4827\n",
            "Epoch 45/100\n",
            "484/484 [==============================] - 6s 11ms/step - loss: 2.6508 - accuracy: 0.4946\n",
            "Epoch 46/100\n",
            "484/484 [==============================] - 6s 12ms/step - loss: 2.5895 - accuracy: 0.5103\n",
            "Epoch 47/100\n",
            "484/484 [==============================] - 6s 12ms/step - loss: 2.5346 - accuracy: 0.5265\n",
            "Epoch 48/100\n",
            "484/484 [==============================] - 6s 12ms/step - loss: 2.4796 - accuracy: 0.5343\n",
            "Epoch 49/100\n",
            "484/484 [==============================] - 6s 12ms/step - loss: 2.4474 - accuracy: 0.5404\n",
            "Epoch 50/100\n",
            "484/484 [==============================] - 6s 12ms/step - loss: 2.3909 - accuracy: 0.5558\n",
            "Epoch 51/100\n",
            "484/484 [==============================] - 6s 11ms/step - loss: 2.3442 - accuracy: 0.5640\n",
            "Epoch 52/100\n",
            "484/484 [==============================] - 6s 13ms/step - loss: 2.2915 - accuracy: 0.5691\n",
            "Epoch 53/100\n",
            "484/484 [==============================] - 6s 12ms/step - loss: 2.2477 - accuracy: 0.5807\n",
            "Epoch 54/100\n",
            "484/484 [==============================] - 6s 12ms/step - loss: 2.2075 - accuracy: 0.5967\n",
            "Epoch 55/100\n",
            "484/484 [==============================] - 6s 12ms/step - loss: 2.1573 - accuracy: 0.6028\n",
            "Epoch 56/100\n",
            "484/484 [==============================] - 6s 12ms/step - loss: 2.1368 - accuracy: 0.6073\n",
            "Epoch 57/100\n",
            "484/484 [==============================] - 6s 11ms/step - loss: 2.0893 - accuracy: 0.6200\n",
            "Epoch 58/100\n",
            "484/484 [==============================] - 6s 12ms/step - loss: 2.0526 - accuracy: 0.6272\n",
            "Epoch 59/100\n",
            "484/484 [==============================] - 6s 12ms/step - loss: 2.0138 - accuracy: 0.6319\n",
            "Epoch 60/100\n",
            "484/484 [==============================] - 6s 12ms/step - loss: 1.9821 - accuracy: 0.6376\n",
            "Epoch 61/100\n",
            "484/484 [==============================] - 6s 12ms/step - loss: 1.9409 - accuracy: 0.6509\n",
            "Epoch 62/100\n",
            "484/484 [==============================] - 6s 12ms/step - loss: 1.9054 - accuracy: 0.6599\n",
            "Epoch 63/100\n",
            "484/484 [==============================] - 6s 12ms/step - loss: 1.8813 - accuracy: 0.6622\n",
            "Epoch 64/100\n",
            "484/484 [==============================] - 6s 12ms/step - loss: 1.8390 - accuracy: 0.6734\n",
            "Epoch 65/100\n",
            "484/484 [==============================] - 6s 12ms/step - loss: 1.8182 - accuracy: 0.6743\n",
            "Epoch 66/100\n",
            "484/484 [==============================] - 6s 12ms/step - loss: 1.7859 - accuracy: 0.6864\n",
            "Epoch 67/100\n",
            "484/484 [==============================] - 6s 12ms/step - loss: 1.7541 - accuracy: 0.6913\n",
            "Epoch 68/100\n",
            "484/484 [==============================] - 6s 12ms/step - loss: 1.7350 - accuracy: 0.6936\n",
            "Epoch 69/100\n",
            "484/484 [==============================] - 6s 12ms/step - loss: 1.7054 - accuracy: 0.7028\n",
            "Epoch 70/100\n",
            "484/484 [==============================] - 6s 13ms/step - loss: 1.6902 - accuracy: 0.7013\n",
            "Epoch 71/100\n",
            "484/484 [==============================] - 6s 12ms/step - loss: 1.6672 - accuracy: 0.7011\n",
            "Epoch 72/100\n",
            "484/484 [==============================] - 6s 12ms/step - loss: 1.6360 - accuracy: 0.7152\n",
            "Epoch 73/100\n",
            "484/484 [==============================] - 5s 11ms/step - loss: 1.6121 - accuracy: 0.7161\n",
            "Epoch 74/100\n",
            "484/484 [==============================] - 6s 12ms/step - loss: 1.5873 - accuracy: 0.7215\n",
            "Epoch 75/100\n",
            "484/484 [==============================] - 6s 12ms/step - loss: 1.5637 - accuracy: 0.7289\n",
            "Epoch 76/100\n",
            "484/484 [==============================] - 6s 12ms/step - loss: 1.5448 - accuracy: 0.7313\n",
            "Epoch 77/100\n",
            "484/484 [==============================] - 6s 12ms/step - loss: 1.5233 - accuracy: 0.7350\n",
            "Epoch 78/100\n",
            "484/484 [==============================] - 6s 13ms/step - loss: 1.5110 - accuracy: 0.7333\n",
            "Epoch 79/100\n",
            "484/484 [==============================] - 6s 13ms/step - loss: 1.5059 - accuracy: 0.7362\n",
            "Epoch 80/100\n",
            "484/484 [==============================] - 6s 12ms/step - loss: 1.4780 - accuracy: 0.7408\n",
            "Epoch 81/100\n",
            "484/484 [==============================] - 6s 12ms/step - loss: 1.4477 - accuracy: 0.7498\n",
            "Epoch 82/100\n",
            "484/484 [==============================] - 6s 12ms/step - loss: 1.4320 - accuracy: 0.7523\n",
            "Epoch 83/100\n",
            "484/484 [==============================] - 6s 12ms/step - loss: 1.4241 - accuracy: 0.7513\n",
            "Epoch 84/100\n",
            "484/484 [==============================] - 6s 12ms/step - loss: 1.4064 - accuracy: 0.7551\n",
            "Epoch 85/100\n",
            "484/484 [==============================] - 6s 12ms/step - loss: 1.3911 - accuracy: 0.7559\n",
            "Epoch 86/100\n",
            "484/484 [==============================] - 6s 12ms/step - loss: 1.3754 - accuracy: 0.7603\n",
            "Epoch 87/100\n",
            "484/484 [==============================] - 6s 12ms/step - loss: 1.3585 - accuracy: 0.7643\n",
            "Epoch 88/100\n",
            "484/484 [==============================] - 6s 12ms/step - loss: 1.3434 - accuracy: 0.7679\n",
            "Epoch 89/100\n",
            "484/484 [==============================] - 6s 12ms/step - loss: 1.3324 - accuracy: 0.7692\n",
            "Epoch 90/100\n",
            "484/484 [==============================] - 6s 12ms/step - loss: 1.3110 - accuracy: 0.7730\n",
            "Epoch 91/100\n",
            "484/484 [==============================] - 6s 13ms/step - loss: 1.3067 - accuracy: 0.7723\n",
            "Epoch 92/100\n",
            "484/484 [==============================] - 6s 12ms/step - loss: 1.2873 - accuracy: 0.7775\n",
            "Epoch 93/100\n",
            "484/484 [==============================] - 6s 12ms/step - loss: 1.2761 - accuracy: 0.7770\n",
            "Epoch 94/100\n",
            "484/484 [==============================] - 6s 12ms/step - loss: 1.2727 - accuracy: 0.7784\n",
            "Epoch 95/100\n",
            "484/484 [==============================] - 6s 12ms/step - loss: 1.2502 - accuracy: 0.7842\n",
            "Epoch 96/100\n",
            "484/484 [==============================] - 6s 12ms/step - loss: 1.2371 - accuracy: 0.7830\n",
            "Epoch 97/100\n",
            "484/484 [==============================] - 6s 12ms/step - loss: 1.2383 - accuracy: 0.7822\n",
            "Epoch 98/100\n",
            "484/484 [==============================] - 6s 12ms/step - loss: 1.2239 - accuracy: 0.7860\n",
            "Epoch 99/100\n",
            "484/484 [==============================] - 6s 12ms/step - loss: 1.2010 - accuracy: 0.7919\n",
            "Epoch 100/100\n",
            "484/484 [==============================] - 6s 12ms/step - loss: 1.1975 - accuracy: 0.7917\n"
          ],
          "name": "stdout"
        }
      ]
    },
    {
      "cell_type": "code",
      "metadata": {
        "colab_type": "code",
        "id": "1fXTEO3GJ282",
        "colab": {
          "base_uri": "https://localhost:8080/",
          "height": 545
        },
        "outputId": "080ab872-1059-42e9-97b4-c20ff25692f0"
      },
      "source": [
        "import matplotlib.pyplot as plt\n",
        "acc = history.history['accuracy']\n",
        "loss = history.history['loss']\n",
        "\n",
        "epochs = range(len(acc))\n",
        "\n",
        "plt.plot(epochs, acc, 'b', label='Training accuracy')\n",
        "plt.title('Training accuracy')\n",
        "\n",
        "plt.figure()\n",
        "\n",
        "plt.plot(epochs, loss, 'b', label='Training Loss')\n",
        "plt.title('Training loss')\n",
        "plt.legend()\n",
        "\n",
        "plt.show()"
      ],
      "execution_count": 5,
      "outputs": [
        {
          "output_type": "display_data",
          "data": {
            "image/png": "[encoded data removed]",
            "text/plain": [
              "<Figure size 432x288 with 1 Axes>"
            ]
          },
          "metadata": {
            "tags": [],
            "needs_background": "light"
          }
        },
        {
          "output_type": "display_data",
          "data": {
            "image/png": "[encoded data removed]",
            "text/plain": [
              "<Figure size 432x288 with 1 Axes>"
            ]
          },
          "metadata": {
            "tags": [],
            "needs_background": "light"
          }
        }
      ]
    },
    {
      "cell_type": "code",
      "metadata": {
        "colab_type": "code",
        "id": "6Vc6PHgxa6Hm",
        "colab": {
          "base_uri": "https://localhost:8080/",
          "height": 104
        },
        "outputId": "e9de76e3-b8ba-4a59-d433-b649e363bce2"
      },
      "source": [
        "seed_text = \"Help me Obi Wan Kenobi, you're my only hope\"\n",
        "next_words = 100\n",
        "  \n",
        "for _ in range(next_words):\n",
        "\ttoken_list = tokenizer.texts_to_sequences([seed_text])[0]\n",
        "\ttoken_list = pad_sequences([token_list], maxlen=max_sequence_len-1, padding='pre')\n",
        "\tpredicted = model.predict_classes(token_list, verbose=0)\n",
        "\toutput_word = \"\"\n",
        "\tfor word, index in tokenizer.word_index.items():\n",
        "\t\tif index == predicted:\n",
        "\t\t\toutput_word = word\n",
        "\t\t\tbreak\n",
        "\tseed_text += \" \" + output_word\n",
        "print(seed_text)"
      ],
      "execution_count": 6,
      "outputs": [
        {
          "output_type": "stream",
          "text": [
            "WARNING:tensorflow:From <ipython-input-6-622d307fa19a>:7: Sequential.predict_classes (from tensorflow.python.keras.engine.sequential) is deprecated and will be removed after 2021-01-01.\n",
            "Instructions for updating:\n",
            "Please use instead:* `np.argmax(model.predict(x), axis=-1)`,   if your model does multi-class classification   (e.g. if it uses a `softmax` last-layer activation).* `(model.predict(x) > 0.5).astype(\"int32\")`,   if your model does binary classification   (e.g. if it uses a `sigmoid` last-layer activation).\n",
            "Help me Obi Wan Kenobi, you're my only hope some gone to find give sort friend young old life rare bright live bright ill ill pride hour rare light wind days erred hits sort time remain true delighted lie to dwell it men well near thyself alone before say told long living ' be now tend grow up strong slow burn'd scope doth light held sun grow cold tongue back bred light rolling wide wretch can sheds greater thee prove days bearing thee well words kind rare rare show thee thee were thee they live so bold so near awake none none ' speak so crown'd by say bright\n"
          ],
          "name": "stdout"
        }
      ]
    },
    {
      "cell_type": "code",
      "metadata": {
        "id": "_mmdlwwHswnW",
        "colab_type": "code",
        "colab": {}
      },
      "source": [
        ""
      ],
      "execution_count": null,
      "outputs": []
    }
  ]
}